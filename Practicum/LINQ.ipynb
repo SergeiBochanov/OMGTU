{
 "cells": [
  {
   "cell_type": "code",
   "execution_count": 1,
   "metadata": {
    "dotnet_interactive": {
     "language": "csharp"
    },
    "polyglot_notebook": {
     "kernelName": "csharp"
    }
   },
   "outputs": [],
   "source": [
    "using System.Linq;\n",
    "class TrapezoidalRule {\n",
    "    public static double Solve(Func<double, double> f, double a, double b, double dx) {\n",
    "        if (dx < 1E-7 || b < a || !Double.IsFinite(a + b + dx)) throw new ArgumentException(\"Неверные данные\");\n",
    "        if (Math.Abs(b-a) < 1E-7) return 0;\n",
    "        double sum = 0.5 * (a+b) + Enumerable.Range(1, Convert.ToInt32((b-a)/dx) - 1).Sum(i => f(a+i*dx));\n",
    "        return sum * dx;\n",
    "    }\n",
    "}"
   ]
  },
  {
   "cell_type": "code",
   "execution_count": 2,
   "metadata": {
    "dotnet_interactive": {
     "language": "csharp"
    },
    "polyglot_notebook": {
     "kernelName": "csharp"
    }
   },
   "outputs": [
    {
     "data": {
      "text/html": [
       "<div class=\"dni-plaintext\"><pre>35.99</pre></div><style>\r\n",
       ".dni-code-hint {\r\n",
       "    font-style: italic;\r\n",
       "    overflow: hidden;\r\n",
       "    white-space: nowrap;\r\n",
       "}\r\n",
       ".dni-treeview {\r\n",
       "    white-space: nowrap;\r\n",
       "}\r\n",
       ".dni-treeview td {\r\n",
       "    vertical-align: top;\r\n",
       "    text-align: start;\r\n",
       "}\r\n",
       "details.dni-treeview {\r\n",
       "    padding-left: 1em;\r\n",
       "}\r\n",
       "table td {\r\n",
       "    text-align: start;\r\n",
       "}\r\n",
       "table tr { \r\n",
       "    vertical-align: top; \r\n",
       "    margin: 0em 0px;\r\n",
       "}\r\n",
       "table tr td pre \r\n",
       "{ \r\n",
       "    vertical-align: top !important; \r\n",
       "    margin: 0em 0px !important;\r\n",
       "} \r\n",
       "table th {\r\n",
       "    text-align: start;\r\n",
       "}\r\n",
       "</style>"
      ]
     },
     "metadata": {},
     "output_type": "display_data"
    }
   ],
   "source": [
    "Func<double, double> f = (double x) => -x*x + 9;\n",
    "\n",
    "var answ = TrapezoidalRule.Solve(f, -3, 3, 0.1);\n",
    "answ"
   ]
  },
  {
   "cell_type": "code",
   "execution_count": 3,
   "metadata": {
    "dotnet_interactive": {
     "language": "csharp"
    },
    "polyglot_notebook": {
     "kernelName": "csharp"
    }
   },
   "outputs": [
    {
     "data": {
      "text/html": [
       "<div><div></div><div></div><div><strong>Installed Packages</strong><ul><li><span>Newtonsoft.Json, 13.0.3</span></li></ul></div></div>"
      ]
     },
     "metadata": {},
     "output_type": "display_data"
    }
   ],
   "source": [
    "#r \"nuget: Newtonsoft.Json, 13.0.3\"\n",
    "using Newtonsoft.Json.Linq;\n",
    "using System.IO;\n",
    "public class Student{\n",
    "    public string name { get; set; }\n",
    "    public string group { get; set; }\n",
    "    public string discipline { get; set; }\n",
    "    public int mark { get; set; }\n",
    "}"
   ]
  },
  {
   "cell_type": "code",
   "execution_count": 4,
   "metadata": {
    "dotnet_interactive": {
     "language": "csharp"
    },
    "polyglot_notebook": {
     "kernelName": "csharp"
    }
   },
   "outputs": [],
   "source": [
    "public void Task2 (string inputPath, string outputPath) {\n",
    "    JObject json = JObject.Parse(File.ReadAllText(inputPath));\n",
    "    IList<Student> students = json[\"data\"].Select(p => new Student\n",
    "    {\n",
    "        name = (string)p[\"name\"],\n",
    "        group = (string)p[\"group\"],\n",
    "        discipline = (string)p[\"discipline\"],\n",
    "        mark = (int)p[\"mark\"]\n",
    "    }).ToList();\n",
    "    string taskName = (string)json[\"taskName\"];\n",
    "    switch (taskName){\n",
    "        case \"GetStudentsWithHighestGPA\":\n",
    "            var nameGroups = students.GroupBy(x => x.name).Select(p => new {Cadet = p.Key, GPA = p.Average(g => g.mark)});\n",
    "            var bestGPA = nameGroups.Where(x => x.GPA == nameGroups.Max(p => p.GPA));\n",
    "            JObject answer1 = new JObject\n",
    "            {\n",
    "                new JProperty(\"Response\", \n",
    "                    new JArray \n",
    "                    (\n",
    "                        bestGPA.Select(x => new JObject \n",
    "                        {\n",
    "                            new JProperty (\"Cadet\", x.Cadet),\n",
    "                            new JProperty (\"GPA\", x.GPA),\n",
    "                        })\n",
    "                    )\n",
    "                )\n",
    "            };\n",
    "            File.WriteAllText(outputPath, answer1.ToString());\n",
    "            break;\n",
    "        \n",
    "\n",
    "        case \"CalculateGPAByDiscipline\":\n",
    "            var disciplineGroups = students.GroupBy(x => x.discipline).Select(p => new {Discipline = p.Key, GPA = p.Average(g => g.mark)});\n",
    "            JObject answer2 = new JObject\n",
    "            {\n",
    "                new JProperty(\"Response\", \n",
    "                    new JArray \n",
    "                    (\n",
    "                        disciplineGroups.Select(x => new JObject \n",
    "                        {\n",
    "                            new JProperty (x.Discipline, x.GPA),\n",
    "                        })\n",
    "                    )\n",
    "                )\n",
    "            };\n",
    "            File.WriteAllText(outputPath, answer2.ToString());\n",
    "            break;\n",
    "\n",
    "        \n",
    "        case \"GetBestGroupsByDiscipline\":\n",
    "            var disciplineAndGroups = students.GroupBy(x => new {x.discipline, x.group}).Select(p => new {Discipline = p.Key.discipline, Group = p.Key.group, GPA = p.Average(g => g.mark)});\n",
    "            var bestGroups = disciplineAndGroups.Where(x => x.GPA == disciplineAndGroups.Max(p => p.GPA));\n",
    "            JObject answer3 = new JObject\n",
    "            {\n",
    "                new JProperty(\"Response\", \n",
    "                    new JArray \n",
    "                    (\n",
    "                        bestGroups.Select(x => new JObject \n",
    "                        {\n",
    "                            new JProperty (\"Discipline\", x.Discipline),\n",
    "                            new JProperty (\"Group\", x.Group),\n",
    "                            new JProperty (\"GPA\", x.GPA)\n",
    "                        })\n",
    "                    )\n",
    "                )\n",
    "            };\n",
    "            File.WriteAllText(outputPath, answer3.ToString());\n",
    "            break;\n",
    "    }\n",
    "}"
   ]
  },
  {
   "cell_type": "code",
   "execution_count": 5,
   "metadata": {
    "dotnet_interactive": {
     "language": "csharp"
    },
    "polyglot_notebook": {
     "kernelName": "csharp"
    }
   },
   "outputs": [],
   "source": [
    "Task2(\"GetStudentsWithHighestGPA.txt\", \"output.txt\");"
   ]
  },
  {
   "cell_type": "code",
   "execution_count": 6,
   "metadata": {
    "dotnet_interactive": {
     "language": "csharp"
    },
    "polyglot_notebook": {
     "kernelName": "csharp"
    }
   },
   "outputs": [],
   "source": [
    "Task2(\"CalculateGPAByDiscipline.txt\", \"output.txt\");"
   ]
  },
  {
   "cell_type": "code",
   "execution_count": 7,
   "metadata": {
    "dotnet_interactive": {
     "language": "csharp"
    },
    "polyglot_notebook": {
     "kernelName": "csharp"
    }
   },
   "outputs": [],
   "source": [
    "Task2(\"GetBestGroupsByDiscipline.txt\", \"output.txt\");"
   ]
  }
 ],
 "metadata": {
  "kernelspec": {
   "display_name": ".NET (C#)",
   "language": "C#",
   "name": ".net-csharp"
  },
  "language_info": {
   "name": "polyglot-notebook"
  },
  "polyglot_notebook": {
   "kernelInfo": {
    "defaultKernelName": "csharp",
    "items": [
     {
      "aliases": [],
      "languageName": "csharp",
      "name": "csharp"
     }
    ]
   }
  }
 },
 "nbformat": 4,
 "nbformat_minor": 2
}
