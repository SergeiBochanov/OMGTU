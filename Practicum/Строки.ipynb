{
 "cells": [
  {
   "cell_type": "code",
   "execution_count": 215,
   "metadata": {
    "dotnet_interactive": {
     "language": "csharp"
    },
    "polyglot_notebook": {
     "kernelName": "csharp"
    }
   },
   "outputs": [],
   "source": [
    "using System.Diagnostics;\n",
    "string str = \"0123456789\";\n",
    "StringBuilder str2 = new StringBuilder(\"0123456789\");\n",
    "Random rand = new Random();"
   ]
  },
  {
   "cell_type": "code",
   "execution_count": 216,
   "metadata": {
    "dotnet_interactive": {
     "language": "csharp"
    },
    "polyglot_notebook": {
     "kernelName": "csharp"
    }
   },
   "outputs": [
    {
     "data": {
      "text/plain": [
       "347ms"
      ]
     },
     "metadata": {},
     "output_type": "display_data"
    }
   ],
   "source": [
    "Stopwatch stopwatch = new Stopwatch();\n",
    "stopwatch.Start();\n",
    "for (int i = 0; i < 1000000; i++)\n",
    "    str = str.Substring(0, i%10) + \"0123456789\"[rand.Next(0, 10)] + str.Substring(i%10 + 1);\n",
    "stopwatch.Stop();\n",
    "string elapsedTime = $\"{stopwatch.ElapsedMilliseconds}ms\";\n",
    "elapsedTime"
   ]
  },
  {
   "cell_type": "code",
   "execution_count": 217,
   "metadata": {
    "dotnet_interactive": {
     "language": "csharp"
    },
    "polyglot_notebook": {
     "kernelName": "csharp"
    }
   },
   "outputs": [
    {
     "data": {
      "text/plain": [
       "51ms"
      ]
     },
     "metadata": {},
     "output_type": "display_data"
    }
   ],
   "source": [
    "Stopwatch stopwatch = new Stopwatch();\n",
    "stopwatch.Start();\n",
    "for (int i = 0; i < 1000000; i++)\n",
    "    str2[i%10] = \"0123456789\"[rand.Next(0, 10)];\n",
    "stopwatch.Stop();\n",
    "string elapsedTime = $\"{stopwatch.ElapsedMilliseconds}ms\";\n",
    "elapsedTime"
   ]
  },
  {
   "cell_type": "code",
   "execution_count": 218,
   "metadata": {
    "dotnet_interactive": {
     "language": "csharp"
    },
    "polyglot_notebook": {
     "kernelName": "csharp"
    }
   },
   "outputs": [
    {
     "name": "stdout",
     "output_type": "stream",
     "text": [
      "12:24:27\r\n"
     ]
    }
   ],
   "source": [
    "using System.Text.RegularExpressions;\n",
    "string input = \"12:24:27\";\n",
    "string pattern = @\"(([0-1]?\\d)|(2[0-3])):[0-5]\\d(:[0-5]\\d)?\";\n",
    "MatchCollection matches = Regex.Matches(input, pattern);\n",
    "if (matches.Count > 0)\n",
    "    foreach (Match match in matches) \n",
    "        Console.WriteLine(match.Value);\n",
    "else\n",
    "    Console.WriteLine(\"Строка не содержит время в 24-часовом формате\");"
   ]
  },
  {
   "cell_type": "code",
   "execution_count": 219,
   "metadata": {
    "dotnet_interactive": {
     "language": "csharp"
    },
    "polyglot_notebook": {
     "kernelName": "csharp"
    }
   },
   "outputs": [
    {
     "name": "stdout",
     "output_type": "stream",
     "text": [
      "my.email@email.com.domen\r\n"
     ]
    }
   ],
   "source": [
    "string input = \"my.email@email.com.domen\";\n",
    "string pattern = @\"[A-Za-z\\d]([\\.A-Za-z\\d]*[A-Za-z\\d])?@[-A-Za-z\\d]+(\\.[-A-Za-z\\d]+)+\";\n",
    "MatchCollection matches = Regex.Matches(input, pattern);\n",
    "if (matches.Count > 0)\n",
    "    foreach (Match match in matches) \n",
    "        Console.WriteLine(match.Value);\n",
    "else\n",
    "    Console.WriteLine(\"Строка не содержит корректный адрес почты\");"
   ]
  }
 ],
 "metadata": {
  "kernelspec": {
   "display_name": ".NET (C#)",
   "language": "C#",
   "name": ".net-csharp"
  },
  "language_info": {
   "name": "polyglot-notebook"
  },
  "polyglot_notebook": {
   "kernelInfo": {
    "defaultKernelName": "csharp",
    "items": [
     {
      "aliases": [],
      "name": "csharp"
     }
    ]
   }
  }
 },
 "nbformat": 4,
 "nbformat_minor": 2
}
